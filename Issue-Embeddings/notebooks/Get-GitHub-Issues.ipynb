{
 "cells": [
  {
   "cell_type": "code",
   "execution_count": 59,
   "metadata": {},
   "outputs": [],
   "source": [
    "from bs4 import BeautifulSoup\n",
    "import requests\n",
    "from fastai.core import parallel, partial\n",
    "from collections import Counter"
   ]
  },
  {
   "cell_type": "markdown",
   "metadata": {},
   "source": [
    "## Write Functions To Get Data"
   ]
  },
  {
   "cell_type": "code",
   "execution_count": 2,
   "metadata": {},
   "outputs": [],
   "source": [
    "def find_max_issue_num(owner, repo):\n",
    "    \"\"\"\n",
    "    Find the maximum issue number associated with a repo.\n",
    "    \n",
    "    Returns\n",
    "    -------\n",
    "    int\n",
    "        the highest issue number associated with this repo.\n",
    "    \"\"\"\n",
    "    url = f'https://github.com/{owner}/{repo}/issues'\n",
    "    r = requests.get(url)\n",
    "    if not r.ok:\n",
    "        r.raise_for_status()\n",
    "    soup = BeautifulSoup(r.content)\n",
    "    # get grey text under issue preview cards\n",
    "    issue_meta = soup.find('span', class_=\"opened-by\").text\n",
    "    # parse the first issue number visible, which is also the highest issue number\n",
    "    issue_num = issue_meta.strip().split('\\n')[0][1:]\n",
    "    return int(issue_num)"
   ]
  },
  {
   "cell_type": "code",
   "execution_count": 3,
   "metadata": {},
   "outputs": [],
   "source": [
    "def verify_issue(owner, repo, num):\n",
    "    \"\"\"\n",
    "    Verify that owner/repo/issues/num exists.  \n",
    "    \n",
    "    Returns\n",
    "    -------\n",
    "    bool\n",
    "        True/False if issue exists.\n",
    "    \n",
    "    Note that pull requests are also issues but will \n",
    "    get redirected with a status code 302, allowing\n",
    "    this function to return False.\n",
    "    \"\"\"\n",
    "    \n",
    "    url = f'https://github.com/{owner}/{repo}/issues/{num}'\n",
    "    \n",
    "    if requests.head(url).status_code != 200:\n",
    "        return False\n",
    "    else:\n",
    "        return True"
   ]
  },
  {
   "cell_type": "code",
   "execution_count": 4,
   "metadata": {},
   "outputs": [],
   "source": [
    "def get_issue_text(num, idx, owner, repo, skip_issue=True):\n",
    "    \"\"\"\n",
    "    Get the raw text of an issue body and label.\n",
    "    \n",
    "    Returns\n",
    "    ------\n",
    "    dict\n",
    "        {'title':str, 'body':str}\n",
    "    \"\"\"\n",
    "    url = f'https://github.com/{owner}/{repo}/issues/{num}'\n",
    "    if not verify_issue(owner, repo, num):\n",
    "        if skip_issue:\n",
    "            return None\n",
    "        raise Exception(f'{url} is not an issue.')\n",
    "        \n",
    "    soup = BeautifulSoup(requests.get(url).content)\n",
    "    title_find = soup.find(\"span\", class_=\"js-issue-title\")\n",
    "    body_find = soup.find(\"td\", class_=\"js-comment-body\")\n",
    "    label_find = soup.find(class_='js-issue-labels')\n",
    "    \n",
    "    if not title_find or not body_find:\n",
    "        return None\n",
    "    \n",
    "    title = title_find.get_text().strip()\n",
    "    body = body_find.get_text().strip()\n",
    "    labels = label_find.get_text().strip().split('\\n')\n",
    "    \n",
    "    if labels[0] == 'None yet':\n",
    "        return None\n",
    "    \n",
    "    return {'title':title,\n",
    "            'url':url,\n",
    "            'body': body,\n",
    "            'labels': labels}"
   ]
  },
  {
   "cell_type": "code",
   "execution_count": 81,
   "metadata": {},
   "outputs": [],
   "source": [
    "def get_all_issue_text(owner, repo, inf_wrapper, workers=32, min_freq=25):\n",
    "    c = Counter()\n",
    "    # prepare list of issue nums\n",
    "    owner=owner\n",
    "    repo=repo\n",
    "    max_num = find_max_issue_num(owner, repo)\n",
    "    \n",
    "    get = partial(get_issue_text, owner=owner, repo=repo, skip_issue=True)\n",
    "    issues = parallel(get, list(range(1, max_num+1)), max_workers=workers)\n",
    "    # filter out issues with problems\n",
    "    filtered_issues = []\n",
    "    \n",
    "    for issue in issues:\n",
    "        if issue:\n",
    "            c.update(issue['labels'])\n",
    "            filtered_issues.append(issue)\n",
    "    \n",
    "    frequent_issues = [x for x in c if c[x] >= min_freq]\n",
    "    \n",
    "    print(f'Retrieved {len(filtered_issues)} issues.')\n",
    "    \n",
    "    # only retain top n issues\n",
    "    final_issues = []\n",
    "    for issue in tqdm_notebook(filtered_issues):\n",
    "        lbls = [i for i in issue['labels'] if i in frequent_issues]\n",
    "        if lbls:\n",
    "            issue['labels'] = lbls\n",
    "            text = inf_wrapper.process_dict(issue)['text']\n",
    "            issue['features'] = inf_wrapper.get_pooled_features(text)\n",
    "            final_issues.append(issue)\n",
    "            \n",
    "    print(f'{len(final_issues)} issues remaining after minimum frequency filter of {min_freq}.')\n",
    "    \n",
    "    return final_issues"
   ]
  },
  {
   "cell_type": "markdown",
   "metadata": {},
   "source": [
    "## Get The Data"
   ]
  },
  {
   "cell_type": "code",
   "execution_count": 74,
   "metadata": {},
   "outputs": [
    {
     "name": "stdout",
     "output_type": "stream",
     "text": [
      "The autoreload extension is already loaded. To reload it, use:\n",
      "  %reload_ext autoreload\n"
     ]
    }
   ],
   "source": [
    "%load_ext autoreload\n",
    "%autoreload 2\n",
    "import pandas as pd\n",
    "from inference import InferenceWrapper"
   ]
  },
  {
   "cell_type": "code",
   "execution_count": 75,
   "metadata": {},
   "outputs": [],
   "source": [
    "from pathlib import Path\n",
    "from urllib import request as request_url\n",
    "\n",
    "def pass_through(x):\n",
    "    return x\n",
    "\n",
    "# model_url = 'https://storage.googleapis.com/issue_label_bot/model/lang_model/models_22zkdqlr/trained_model_22zkdqlr.pkl'\n",
    "path = Path('./model_files')\n",
    "full_path = path/'model.pkl'\n",
    "\n",
    "# if not full_path.exists():\n",
    "#     print('Loading model.')\n",
    "#     path.mkdir(exist_ok=True)\n",
    "#     request_url.urlretrieve(model_url, path/'model.pkl') \n",
    "inference_wrapper = InferenceWrapper(model_path=path, model_file_name='model.pkl')"
   ]
  },
  {
   "cell_type": "code",
   "execution_count": null,
   "metadata": {},
   "outputs": [
    {
     "name": "stdout",
     "output_type": "stream",
     "text": [
      "Retrieved 206 issues.\n"
     ]
    },
    {
     "data": {
      "application/vnd.jupyter.widget-view+json": {
       "model_id": "75196c3750504834bc0bc0700a60ef12",
       "version_major": 2,
       "version_minor": 0
      },
      "text/plain": [
       "HBox(children=(IntProgress(value=0, max=206), HTML(value='')))"
      ]
     },
     "metadata": {},
     "output_type": "display_data"
    }
   ],
   "source": [
    "test = get_all_issue_text(owner='kubeflow', repo='examples', inf_wrapper=inference_wrapper)"
   ]
  },
  {
   "cell_type": "code",
   "execution_count": null,
   "metadata": {},
   "outputs": [],
   "source": []
  }
 ],
 "metadata": {
  "kernelspec": {
   "display_name": "issue-features-api",
   "language": "python",
   "name": "issue-features-api"
  },
  "language_info": {
   "codemirror_mode": {
    "name": "ipython",
    "version": 3
   },
   "file_extension": ".py",
   "mimetype": "text/x-python",
   "name": "python",
   "nbconvert_exporter": "python",
   "pygments_lexer": "ipython3",
   "version": "3.7.3"
  }
 },
 "nbformat": 4,
 "nbformat_minor": 2
}
