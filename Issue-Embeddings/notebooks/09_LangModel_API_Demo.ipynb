{
 "cells": [
  {
   "cell_type": "markdown",
   "metadata": {},
   "source": [
    "<h1 align=\"center\">GitHub Issue Embeddings API</h1> \n",
    "\n",
    "This tutorial shows you how ping the microservice that allows you to retrieve an embedding given an issue title and body. This notebook is [available on GitHub](https://github.com/kubeflow/code-intelligence/blob/master/Issue-Embeddings/notebooks/09_LangModel_API_Demo.ipynb)."
   ]
  },
  {
   "cell_type": "markdown",
   "metadata": {},
   "source": [
    "#### Import Dependencies"
   ]
  },
  {
   "cell_type": "code",
   "execution_count": 1,
   "metadata": {},
   "outputs": [],
   "source": [
    "import requests\n",
    "import json\n",
    "import numpy as np\n",
    "from passlib.apps import custom_app_context as pwd_context\n",
    "API_ENDPOINT = 'https://embeddings.gh-issue-labeler.com/text'\n",
    "API_KEY = 'YOUR_API_KEY' # Contact maintainers for your api key"
   ]
  },
  {
   "cell_type": "markdown",
   "metadata": {},
   "source": [
    "## API Endpoints"
   ]
  },
  {
   "cell_type": "markdown",
   "metadata": {},
   "source": [
    "### Route 1: `https://embeddings.gh-issue-labeler.com/text`\n",
    "\n",
    "Allows you to get embeddings for the raw text corresponding to a single GitHub issue.  The motivation for this endpoint is to use this at inference time, for example, when you need to perform computation on a new issue.\n",
    "\n",
    "This endpoint listens to `POST` requests, with the payload illustrated below:"
   ]
  },
  {
   "cell_type": "code",
   "execution_count": 2,
   "metadata": {},
   "outputs": [],
   "source": [
    "data = {'title': 'Fix the issue', \n",
    "        'body': 'I am encountering an error\\n when trying to push the button.'}\n",
    "\n",
    "# sending post request and saving response as response object \n",
    "r = requests.post(url=API_ENDPOINT,\n",
    "                  headers={'Token':pwd_context.hash(API_KEY)},\n",
    "                  json=data)"
   ]
  },
  {
   "cell_type": "markdown",
   "metadata": {},
   "source": [
    "Convert byte stream sent over REST back to a numpy array.  The numpy array is a 2,400 dimensional embedding which are latent features of the GitHub Issue."
   ]
  },
  {
   "cell_type": "code",
   "execution_count": 5,
   "metadata": {},
   "outputs": [
    {
     "data": {
      "text/plain": [
       "(2400,)"
      ]
     },
     "execution_count": 5,
     "metadata": {},
     "output_type": "execute_result"
    }
   ],
   "source": [
    "embeddings = np.frombuffer(r.content, dtype='<f4')\n",
    "embeddings.shape"
   ]
  }
 ],
 "metadata": {
  "kernelspec": {
   "display_name": "issue-features-api",
   "language": "python",
   "name": "issue-features-api"
  },
  "language_info": {
   "codemirror_mode": {
    "name": "ipython",
    "version": 3
   },
   "file_extension": ".py",
   "mimetype": "text/x-python",
   "name": "python",
   "nbconvert_exporter": "python",
   "pygments_lexer": "ipython3",
   "version": "3.7.3"
  }
 },
 "nbformat": 4,
 "nbformat_minor": 2
}
